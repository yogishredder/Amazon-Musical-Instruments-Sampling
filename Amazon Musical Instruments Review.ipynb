{
 "cells": [
  {
   "cell_type": "markdown",
   "metadata": {
    "id": "1CSmCFgl4DDG"
   },
   "source": [
    "- Import Library"
   ]
  },
  {
   "cell_type": "code",
   "execution_count": 1,
   "metadata": {
    "id": "xLSC_M3mx71Q"
   },
   "outputs": [],
   "source": [
    "# Load library\n",
    "import numpy as np\n",
    "import pandas as pd\n",
    "import matplotlib.pyplot as plt\n",
    "import seaborn as sns "
   ]
  },
  {
   "cell_type": "markdown",
   "metadata": {
    "id": "PohdmeJo4FJj"
   },
   "source": [
    "- Load given sample dataset. \n",
    "- May be collected from a survey."
   ]
  },
  {
   "cell_type": "code",
   "execution_count": 2,
   "metadata": {
    "colab": {
     "base_uri": "https://localhost:8080/",
     "height": 337
    },
    "id": "dsO6B-Xr4CNM",
    "outputId": "cb177c30-c0f5-4817-f2ef-d968b8f5dc4c"
   },
   "outputs": [
    {
     "data": {
      "text/html": [
       "<div>\n",
       "<style scoped>\n",
       "    .dataframe tbody tr th:only-of-type {\n",
       "        vertical-align: middle;\n",
       "    }\n",
       "\n",
       "    .dataframe tbody tr th {\n",
       "        vertical-align: top;\n",
       "    }\n",
       "\n",
       "    .dataframe thead th {\n",
       "        text-align: right;\n",
       "    }\n",
       "</style>\n",
       "<table border=\"1\" class=\"dataframe\">\n",
       "  <thead>\n",
       "    <tr style=\"text-align: right;\">\n",
       "      <th></th>\n",
       "      <th>reviewerID</th>\n",
       "      <th>asin</th>\n",
       "      <th>reviewerName</th>\n",
       "      <th>helpful</th>\n",
       "      <th>reviewText</th>\n",
       "      <th>overall</th>\n",
       "      <th>summary</th>\n",
       "      <th>unixReviewTime</th>\n",
       "      <th>reviewTime</th>\n",
       "    </tr>\n",
       "  </thead>\n",
       "  <tbody>\n",
       "    <tr>\n",
       "      <th>0</th>\n",
       "      <td>A2IBPI20UZIR0U</td>\n",
       "      <td>1384719342</td>\n",
       "      <td>cassandra tu \"Yeah, well, that's just like, u...</td>\n",
       "      <td>[0, 0]</td>\n",
       "      <td>Not much to write about here, but it does exac...</td>\n",
       "      <td>5.0</td>\n",
       "      <td>good</td>\n",
       "      <td>1393545600</td>\n",
       "      <td>02 28, 2014</td>\n",
       "    </tr>\n",
       "    <tr>\n",
       "      <th>1</th>\n",
       "      <td>A14VAT5EAX3D9S</td>\n",
       "      <td>1384719342</td>\n",
       "      <td>Jake</td>\n",
       "      <td>[13, 14]</td>\n",
       "      <td>The product does exactly as it should and is q...</td>\n",
       "      <td>5.0</td>\n",
       "      <td>Jake</td>\n",
       "      <td>1363392000</td>\n",
       "      <td>03 16, 2013</td>\n",
       "    </tr>\n",
       "    <tr>\n",
       "      <th>2</th>\n",
       "      <td>A195EZSQDW3E21</td>\n",
       "      <td>1384719342</td>\n",
       "      <td>Rick Bennette \"Rick Bennette\"</td>\n",
       "      <td>[1, 1]</td>\n",
       "      <td>The primary job of this device is to block the...</td>\n",
       "      <td>5.0</td>\n",
       "      <td>It Does The Job Well</td>\n",
       "      <td>1377648000</td>\n",
       "      <td>08 28, 2013</td>\n",
       "    </tr>\n",
       "    <tr>\n",
       "      <th>3</th>\n",
       "      <td>A2C00NNG1ZQQG2</td>\n",
       "      <td>1384719342</td>\n",
       "      <td>RustyBill \"Sunday Rocker\"</td>\n",
       "      <td>[0, 0]</td>\n",
       "      <td>Nice windscreen protects my MXL mic and preven...</td>\n",
       "      <td>5.0</td>\n",
       "      <td>GOOD WINDSCREEN FOR THE MONEY</td>\n",
       "      <td>1392336000</td>\n",
       "      <td>02 14, 2014</td>\n",
       "    </tr>\n",
       "    <tr>\n",
       "      <th>4</th>\n",
       "      <td>A94QU4C90B1AX</td>\n",
       "      <td>1384719342</td>\n",
       "      <td>SEAN MASLANKA</td>\n",
       "      <td>[0, 0]</td>\n",
       "      <td>This pop filter is great. It looks and perform...</td>\n",
       "      <td>5.0</td>\n",
       "      <td>No more pops when I record my vocals.</td>\n",
       "      <td>1392940800</td>\n",
       "      <td>02 21, 2014</td>\n",
       "    </tr>\n",
       "  </tbody>\n",
       "</table>\n",
       "</div>"
      ],
      "text/plain": [
       "       reviewerID        asin  \\\n",
       "0  A2IBPI20UZIR0U  1384719342   \n",
       "1  A14VAT5EAX3D9S  1384719342   \n",
       "2  A195EZSQDW3E21  1384719342   \n",
       "3  A2C00NNG1ZQQG2  1384719342   \n",
       "4   A94QU4C90B1AX  1384719342   \n",
       "\n",
       "                                       reviewerName   helpful  \\\n",
       "0  cassandra tu \"Yeah, well, that's just like, u...    [0, 0]   \n",
       "1                                              Jake  [13, 14]   \n",
       "2                     Rick Bennette \"Rick Bennette\"    [1, 1]   \n",
       "3                         RustyBill \"Sunday Rocker\"    [0, 0]   \n",
       "4                                     SEAN MASLANKA    [0, 0]   \n",
       "\n",
       "                                          reviewText  overall  \\\n",
       "0  Not much to write about here, but it does exac...      5.0   \n",
       "1  The product does exactly as it should and is q...      5.0   \n",
       "2  The primary job of this device is to block the...      5.0   \n",
       "3  Nice windscreen protects my MXL mic and preven...      5.0   \n",
       "4  This pop filter is great. It looks and perform...      5.0   \n",
       "\n",
       "                                 summary  unixReviewTime   reviewTime  \n",
       "0                                   good      1393545600  02 28, 2014  \n",
       "1                                   Jake      1363392000  03 16, 2013  \n",
       "2                   It Does The Job Well      1377648000  08 28, 2013  \n",
       "3          GOOD WINDSCREEN FOR THE MONEY      1392336000  02 14, 2014  \n",
       "4  No more pops when I record my vocals.      1392940800  02 21, 2014  "
      ]
     },
     "execution_count": 2,
     "metadata": {},
     "output_type": "execute_result"
    }
   ],
   "source": [
    "# Filename\n",
    "filename = \"Dataset/Musical_instruments_reviews.csv\"\n",
    "\n",
    "# Read file\n",
    "populasi = pd.read_csv(filename)\n",
    "populasi.head()"
   ]
  },
  {
   "cell_type": "code",
   "execution_count": 3,
   "metadata": {},
   "outputs": [
    {
     "name": "stdout",
     "output_type": "stream",
     "text": [
      "<class 'pandas.core.frame.DataFrame'>\n",
      "RangeIndex: 10261 entries, 0 to 10260\n",
      "Data columns (total 9 columns):\n",
      " #   Column          Non-Null Count  Dtype  \n",
      "---  ------          --------------  -----  \n",
      " 0   reviewerID      10261 non-null  object \n",
      " 1   asin            10261 non-null  object \n",
      " 2   reviewerName    10234 non-null  object \n",
      " 3   helpful         10261 non-null  object \n",
      " 4   reviewText      10254 non-null  object \n",
      " 5   overall         10261 non-null  float64\n",
      " 6   summary         10261 non-null  object \n",
      " 7   unixReviewTime  10261 non-null  int64  \n",
      " 8   reviewTime      10261 non-null  object \n",
      "dtypes: float64(1), int64(1), object(7)\n",
      "memory usage: 721.6+ KB\n"
     ]
    }
   ],
   "source": [
    "populasi.info()"
   ]
  },
  {
   "cell_type": "code",
   "execution_count": 4,
   "metadata": {},
   "outputs": [
    {
     "data": {
      "text/plain": [
       "array([5., 3., 4., 2., 1.])"
      ]
     },
     "execution_count": 4,
     "metadata": {},
     "output_type": "execute_result"
    }
   ],
   "source": [
    "populasi['overall'].unique()"
   ]
  },
  {
   "cell_type": "code",
   "execution_count": 5,
   "metadata": {},
   "outputs": [
    {
     "data": {
      "image/png": "[encoded data removed]",
      "text/plain": [
       "<Figure size 720x504 with 1 Axes>"
      ]
     },
     "metadata": {
      "needs_background": "light"
     },
     "output_type": "display_data"
    }
   ],
   "source": [
    "fig, ax = plt.subplots(nrows=1, ncols=1, figsize=(10, 7))\n",
    "\n",
    "# buat histogram\n",
    "ax.hist(populasi['overall'],\n",
    "        bins=5,\n",
    "        density = True,\n",
    "        facecolor = \"g\",\n",
    "        alpha = 0.25,\n",
    "        label = \"populasi\")\n",
    "\n",
    "# plot mean populasi\n",
    "ax.axvline(np.mean(populasi['overall']),\n",
    "           color = \"red\",\n",
    "           linestyle = \"--\",\n",
    "           label = \"mean populasi\")\n",
    "\n",
    "# Rapihkan plot\n",
    "ax.set_xlabel(\"Rating\", fontsize=16)\n",
    "ax.set_ylabel(\"Probability\", fontsize=16)\n",
    "\n",
    "plt.legend()\n",
    "plt.grid(True)\n",
    "plt.show()"
   ]
  },
  {
   "cell_type": "code",
   "execution_count": 6,
   "metadata": {
    "colab": {
     "base_uri": "https://localhost:8080/"
    },
    "id": "9cEkDFlM5J_7",
    "outputId": "658707fc-96ac-4386-c439-ddd311e99599"
   },
   "outputs": [
    {
     "data": {
      "text/plain": [
       "True"
      ]
     },
     "execution_count": 6,
     "metadata": {},
     "output_type": "execute_result"
    }
   ],
   "source": [
    "#Check any duplicated sample based on no_review\n",
    "populasi[\"reviewerID\"].duplicated().any()\n",
    "\n",
    "#Check Duplicate"
   ]
  },
  {
   "cell_type": "code",
   "execution_count": 7,
   "metadata": {},
   "outputs": [
    {
     "name": "stdout",
     "output_type": "stream",
     "text": [
      "population mean    : 4.49\n"
     ]
    }
   ],
   "source": [
    "# Calculate mean of sample\n",
    "mean_populasi = np.mean(populasi['overall'])\n",
    "print(f\"population mean    : {mean_populasi:.2f}\")"
   ]
  },
  {
   "cell_type": "code",
   "execution_count": 8,
   "metadata": {},
   "outputs": [
    {
     "data": {
      "text/html": [
       "<div>\n",
       "<style scoped>\n",
       "    .dataframe tbody tr th:only-of-type {\n",
       "        vertical-align: middle;\n",
       "    }\n",
       "\n",
       "    .dataframe tbody tr th {\n",
       "        vertical-align: top;\n",
       "    }\n",
       "\n",
       "    .dataframe thead th {\n",
       "        text-align: right;\n",
       "    }\n",
       "</style>\n",
       "<table border=\"1\" class=\"dataframe\">\n",
       "  <thead>\n",
       "    <tr style=\"text-align: right;\">\n",
       "      <th></th>\n",
       "      <th>reviewerID</th>\n",
       "      <th>asin</th>\n",
       "      <th>reviewerName</th>\n",
       "      <th>helpful</th>\n",
       "      <th>reviewText</th>\n",
       "      <th>overall</th>\n",
       "      <th>summary</th>\n",
       "      <th>unixReviewTime</th>\n",
       "      <th>reviewTime</th>\n",
       "    </tr>\n",
       "  </thead>\n",
       "  <tbody>\n",
       "    <tr>\n",
       "      <th>2007</th>\n",
       "      <td>A5I7XOLQRH9YE</td>\n",
       "      <td>B0002F741Q</td>\n",
       "      <td>Corbin</td>\n",
       "      <td>[0, 0]</td>\n",
       "      <td>They are some of the best drum sticks i've pla...</td>\n",
       "      <td>5.0</td>\n",
       "      <td>Loved them</td>\n",
       "      <td>1403568000</td>\n",
       "      <td>06 24, 2014</td>\n",
       "    </tr>\n",
       "    <tr>\n",
       "      <th>3560</th>\n",
       "      <td>A34IJACMU8C3IM</td>\n",
       "      <td>B0002ZPK5I</td>\n",
       "      <td>Rob W. \"Sounddude\"</td>\n",
       "      <td>[33, 34]</td>\n",
       "      <td>The Shure XLR Female to Male 1/4\" Adapter is s...</td>\n",
       "      <td>5.0</td>\n",
       "      <td>A Must Have In The Audio Kit</td>\n",
       "      <td>1229212800</td>\n",
       "      <td>12 14, 2008</td>\n",
       "    </tr>\n",
       "    <tr>\n",
       "      <th>3578</th>\n",
       "      <td>A56EP6FFRH1YT</td>\n",
       "      <td>B00063678K</td>\n",
       "      <td>J. Kim</td>\n",
       "      <td>[4, 4]</td>\n",
       "      <td>I've used this pedal with a Casio PX200 keyboa...</td>\n",
       "      <td>4.0</td>\n",
       "      <td>Good pedal for price</td>\n",
       "      <td>1209081600</td>\n",
       "      <td>04 25, 2008</td>\n",
       "    </tr>\n",
       "    <tr>\n",
       "      <th>3580</th>\n",
       "      <td>A1N46MR82AUE4T</td>\n",
       "      <td>B00063678K</td>\n",
       "      <td>JR</td>\n",
       "      <td>[0, 0]</td>\n",
       "      <td>This pedal is very nice. It looks much more ex...</td>\n",
       "      <td>5.0</td>\n",
       "      <td>Beautiful!</td>\n",
       "      <td>1390867200</td>\n",
       "      <td>01 28, 2014</td>\n",
       "    </tr>\n",
       "    <tr>\n",
       "      <th>3733</th>\n",
       "      <td>A3QTFLU2ZWH7WS</td>\n",
       "      <td>B0006ZXFWO</td>\n",
       "      <td>Audie</td>\n",
       "      <td>[5, 5]</td>\n",
       "      <td>I was worried about dropping my guitar on my f...</td>\n",
       "      <td>5.0</td>\n",
       "      <td>Jim Dunlop 7007SI Dun Ergo Lok Strap Syst</td>\n",
       "      <td>1363564800</td>\n",
       "      <td>03 18, 2013</td>\n",
       "    </tr>\n",
       "  </tbody>\n",
       "</table>\n",
       "</div>"
      ],
      "text/plain": [
       "          reviewerID        asin        reviewerName   helpful  \\\n",
       "2007   A5I7XOLQRH9YE  B0002F741Q              Corbin    [0, 0]   \n",
       "3560  A34IJACMU8C3IM  B0002ZPK5I  Rob W. \"Sounddude\"  [33, 34]   \n",
       "3578   A56EP6FFRH1YT  B00063678K              J. Kim    [4, 4]   \n",
       "3580  A1N46MR82AUE4T  B00063678K                  JR    [0, 0]   \n",
       "3733  A3QTFLU2ZWH7WS  B0006ZXFWO               Audie    [5, 5]   \n",
       "\n",
       "                                             reviewText  overall  \\\n",
       "2007  They are some of the best drum sticks i've pla...      5.0   \n",
       "3560  The Shure XLR Female to Male 1/4\" Adapter is s...      5.0   \n",
       "3578  I've used this pedal with a Casio PX200 keyboa...      4.0   \n",
       "3580  This pedal is very nice. It looks much more ex...      5.0   \n",
       "3733  I was worried about dropping my guitar on my f...      5.0   \n",
       "\n",
       "                                        summary  unixReviewTime   reviewTime  \n",
       "2007                                 Loved them      1403568000  06 24, 2014  \n",
       "3560               A Must Have In The Audio Kit      1229212800  12 14, 2008  \n",
       "3578                       Good pedal for price      1209081600  04 25, 2008  \n",
       "3580                                 Beautiful!      1390867200  01 28, 2014  \n",
       "3733  Jim Dunlop 7007SI Dun Ergo Lok Strap Syst      1363564800  03 18, 2013  "
      ]
     },
     "execution_count": 8,
     "metadata": {},
     "output_type": "execute_result"
    }
   ],
   "source": [
    "#Remove Duplicate\n",
    "clean_sample=populasi.drop_duplicates(subset=['reviewerID'],keep='last')\n",
    "clean_sample.head()"
   ]
  },
  {
   "cell_type": "code",
   "execution_count": 9,
   "metadata": {
    "scrolled": true
   },
   "outputs": [
    {
     "name": "stdout",
     "output_type": "stream",
     "text": [
      "<class 'pandas.core.frame.DataFrame'>\n",
      "Int64Index: 1429 entries, 2007 to 10260\n",
      "Data columns (total 9 columns):\n",
      " #   Column          Non-Null Count  Dtype  \n",
      "---  ------          --------------  -----  \n",
      " 0   reviewerID      1429 non-null   object \n",
      " 1   asin            1429 non-null   object \n",
      " 2   reviewerName    1427 non-null   object \n",
      " 3   helpful         1429 non-null   object \n",
      " 4   reviewText      1425 non-null   object \n",
      " 5   overall         1429 non-null   float64\n",
      " 6   summary         1429 non-null   object \n",
      " 7   unixReviewTime  1429 non-null   int64  \n",
      " 8   reviewTime      1429 non-null   object \n",
      "dtypes: float64(1), int64(1), object(7)\n",
      "memory usage: 111.6+ KB\n"
     ]
    }
   ],
   "source": [
    "clean_sample.info()"
   ]
  },
  {
   "cell_type": "code",
   "execution_count": 10,
   "metadata": {},
   "outputs": [
    {
     "data": {
      "text/plain": [
       "False"
      ]
     },
     "execution_count": 10,
     "metadata": {},
     "output_type": "execute_result"
    }
   ],
   "source": [
    "# Check any duplicated sample based on no_review\n",
    "clean_sample[\"reviewerID\"].duplicated().any()\n",
    "\n",
    "# There is no duplicate"
   ]
  },
  {
   "cell_type": "code",
   "execution_count": 11,
   "metadata": {
    "colab": {
     "base_uri": "https://localhost:8080/"
    },
    "id": "LQO-y3J15iCN",
    "outputId": "5dfed438-b221-4816-a307-39d7eae55f51"
   },
   "outputs": [
    {
     "data": {
      "text/plain": [
       "2007    5.0\n",
       "3560    5.0\n",
       "3578    4.0\n",
       "3580    5.0\n",
       "3733    5.0\n",
       "Name: overall, dtype: float64"
      ]
     },
     "execution_count": 11,
     "metadata": {},
     "output_type": "execute_result"
    }
   ],
   "source": [
    "# Filter the only needed data, i.e. rating\n",
    "rating_df = clean_sample[\"overall\"]\n",
    "\n",
    "rating_df.head()"
   ]
  },
  {
   "cell_type": "code",
   "execution_count": 12,
   "metadata": {},
   "outputs": [
    {
     "data": {
      "image/png": "[encoded data removed]",
      "text/plain": [
       "<Figure size 720x504 with 1 Axes>"
      ]
     },
     "metadata": {
      "needs_background": "light"
     },
     "output_type": "display_data"
    }
   ],
   "source": [
    "fig, ax = plt.subplots(nrows=1, ncols=1, figsize=(10, 7))\n",
    "\n",
    "# buat histogram\n",
    "ax.hist(populasi['overall'],\n",
    "        bins=5,\n",
    "        density = True,\n",
    "        facecolor = \"g\",\n",
    "        alpha = 0.25,\n",
    "        label = \"populasi\")\n",
    "\n",
    "# buat histogram\n",
    "ax.hist(rating_df,\n",
    "        bins=5,\n",
    "        density = True,\n",
    "        facecolor = \"r\",\n",
    "        alpha = 0.25,\n",
    "        label = \"sample\")\n",
    "\n",
    "# plot mean populasi\n",
    "ax.axvline(np.mean(populasi['overall']),\n",
    "           color = \"red\",\n",
    "           linestyle = \"--\",\n",
    "           label = \"mean populasi\")\n",
    "\n",
    "# plot mean mean sample\n",
    "ax.axvline(np.mean(rating_df),\n",
    "           color = \"blue\",\n",
    "           linestyle = \"-.\",\n",
    "           label = \"mean sample\")\n",
    "\n",
    "# Rapihkan plot\n",
    "ax.set_xlabel(\"Rating\", fontsize=16)\n",
    "ax.set_ylabel(\"Probability\", fontsize=16)\n",
    "\n",
    "plt.legend()\n",
    "plt.grid(True)\n",
    "plt.show()"
   ]
  },
  {
   "cell_type": "markdown",
   "metadata": {
    "id": "3K5R92_Y5ptj"
   },
   "source": [
    "---\n",
    "# **Analysis**"
   ]
  },
  {
   "cell_type": "markdown",
   "metadata": {},
   "source": [
    "---\n",
    "#**Sample Mean**"
   ]
  },
  {
   "cell_type": "markdown",
   "metadata": {
    "id": "qcIeY9b_5xB6"
   },
   "source": [
    "- We can use this formula\n",
    "\n",
    "$$\n",
    "\\bar{y} = \\cfrac{1}{n} \\sum_{i=1}^{n} y_{i}\n",
    "$$"
   ]
  },
  {
   "cell_type": "code",
   "execution_count": 13,
   "metadata": {
    "colab": {
     "base_uri": "https://localhost:8080/"
    },
    "id": "DRsBSevv5oSn",
    "outputId": "ded3e146-11d3-452e-ef8e-f03ffdfc7ea7"
   },
   "outputs": [
    {
     "name": "stdout",
     "output_type": "stream",
     "text": [
      "number of sample : 1429\n"
     ]
    }
   ],
   "source": [
    "# Find number of sample\n",
    "n = len(rating_df)\n",
    "print(f\"number of sample : {n}\")"
   ]
  },
  {
   "cell_type": "code",
   "execution_count": 14,
   "metadata": {
    "colab": {
     "base_uri": "https://localhost:8080/"
    },
    "id": "nIatyogn5_uK",
    "outputId": "6ec1307d-71d5-420d-fde9-5c3cf82b41c1"
   },
   "outputs": [
    {
     "name": "stdout",
     "output_type": "stream",
     "text": [
      "Estimated population mean    : 4.46\n"
     ]
    }
   ],
   "source": [
    "# Calculate mean of sample\n",
    "y_bar = np.mean(rating_df)\n",
    "print(f\"Estimated population mean    : {y_bar:.2f}\")"
   ]
  },
  {
   "cell_type": "markdown",
   "metadata": {
    "id": "b8aWDIfpERXC"
   },
   "source": [
    "---\n",
    "#**Estimate the mean estimator variance** ($\\widehat{\\text{var}}(\\bar{y})$)"
   ]
  },
  {
   "cell_type": "code",
   "execution_count": 15,
   "metadata": {
    "colab": {
     "base_uri": "https://localhost:8080/"
    },
    "id": "mJOjmyszEXvM",
    "outputId": "1ccdb4f6-6927-4869-bf0a-664235adcf8b"
   },
   "outputs": [
    {
     "name": "stdout",
     "output_type": "stream",
     "text": [
      "Sample variance             : 0.83\n"
     ]
    }
   ],
   "source": [
    "# Calculate the mean variance\n",
    "var_y = np.var(rating_df, \n",
    "               ddof = 1)\n",
    "\n",
    "print(f\"Sample variance             : {var_y:.2f}\")"
   ]
  },
  {
   "cell_type": "code",
   "execution_count": 16,
   "metadata": {
    "colab": {
     "base_uri": "https://localhost:8080/"
    },
    "id": "WGtl76X7EpBu",
    "outputId": "72093204-04aa-4016-cf2e-8a263de89164"
   },
   "outputs": [
    {
     "name": "stdout",
     "output_type": "stream",
     "text": [
      "Mean estimator variance     : 0.000501\n"
     ]
    }
   ],
   "source": [
    "# Calculate the mean estimator variance\n",
    "N = len(populasi)\n",
    "var_estimator = ((N-n)/N) * (var_y/n)\n",
    "print(f\"Mean estimator variance     : {var_estimator:.6f}\")"
   ]
  },
  {
   "cell_type": "markdown",
   "metadata": {
    "id": "u0KMbfc2FFFX"
   },
   "source": [
    "---\n",
    "#**90% Confidence Interval**"
   ]
  },
  {
   "cell_type": "code",
   "execution_count": 17,
   "metadata": {
    "id": "l7qyzxYhFaWi"
   },
   "outputs": [],
   "source": [
    "from scipy import stats"
   ]
  },
  {
   "cell_type": "code",
   "execution_count": 18,
   "metadata": {
    "colab": {
     "base_uri": "https://localhost:8080/"
    },
    "id": "fE9t465_E2ob",
    "outputId": "0104d6ef-d3e4-474f-8248-9d3d8c5370a7"
   },
   "outputs": [
    {
     "name": "stdout",
     "output_type": "stream",
     "text": [
      "z_stat = 1.6449\n"
     ]
    }
   ],
   "source": [
    "# Calculate z-stat (n > 30)\n",
    "alpha = 0.10\n",
    "stat_z = stats.norm.ppf(q = 1-alpha/2)\n",
    "print(f\"z_stat = {stat_z:.4f}\")"
   ]
  },
  {
   "cell_type": "code",
   "execution_count": 19,
   "metadata": {
    "colab": {
     "base_uri": "https://localhost:8080/"
    },
    "id": "J_tjTELcFoe1",
    "outputId": "bf812a11-e984-4bf8-cfd5-ac4859fb991e"
   },
   "outputs": [
    {
     "name": "stdout",
     "output_type": "stream",
     "text": [
      "Margin of error: 0.04\n"
     ]
    }
   ],
   "source": [
    "# Calculate the margin of error\n",
    "d = stat_z * np.sqrt(var_estimator)\n",
    "print(f\"Margin of error: {d:.2f}\")"
   ]
  },
  {
   "cell_type": "code",
   "execution_count": 20,
   "metadata": {
    "colab": {
     "base_uri": "https://localhost:8080/"
    },
    "id": "7jOBv_7zF0Er",
    "outputId": "6f978b35-e815-4967-b135-98f73ce483da"
   },
   "outputs": [
    {
     "name": "stdout",
     "output_type": "stream",
     "text": [
      "We are 90% confidence that the true mean rating lies between 4.42 and 4.50\n"
     ]
    }
   ],
   "source": [
    "# Calculate the confidence interval [lower, upper]\n",
    "lower_bound = y_bar - d\n",
    "upper_bound = y_bar + d\n",
    "\n",
    "print(f\"We are 90% confidence that the true mean rating lies between {lower_bound:.2f} and {upper_bound:.2f}\")"
   ]
  },
  {
   "cell_type": "code",
   "execution_count": 21,
   "metadata": {},
   "outputs": [],
   "source": [
    "def pdf_normal(x, mu, var):\n",
    "    \"\"\"Calculate the probability density function (PDF) of a normal distribution.\n",
    "\n",
    "    Parameters\n",
    "    ----------\n",
    "    x : array_like\n",
    "        The values at which to calculate the PDF.\n",
    "    mu : float\n",
    "        The mean of the normal distribution.\n",
    "    var : float\n",
    "        The variance of the normal distribution.\n",
    "\n",
    "    Returns\n",
    "    -------\n",
    "    pdf : ndarray\n",
    "        The PDF of the normal distribution evaluated at the given values of x.\n",
    "\n",
    "    Notes\n",
    "    -----\n",
    "    The normal distribution is defined by the probability density function:\n",
    "\n",
    "        f(x | mu, var) = (1 / sqrt(2 * pi * var)) * exp(-((x - mu) ** 2) / (2 * var))\n",
    "\n",
    "    where mu is the mean and var is the variance.\n",
    "\n",
    "    \"\"\"\n",
    "    return (1 / np.sqrt(2 * np.pi * var)) *\\\n",
    "        np.exp(-(1 / (2 * var)) * (x - mu) ** 2)"
   ]
  },
  {
   "cell_type": "code",
   "execution_count": 22,
   "metadata": {},
   "outputs": [
    {
     "data": {
      "image/png": "[encoded data removed]",
      "text/plain": [
       "<Figure size 720x504 with 1 Axes>"
      ]
     },
     "metadata": {
      "needs_background": "light"
     },
     "output_type": "display_data"
    }
   ],
   "source": [
    "fig, ax = plt.subplots(nrows=1, ncols=1, figsize=(10, 7))\n",
    "x_axis = np.arange(4, 5, 0.01)\n",
    "y_axis = pdf_normal(x_axis, y_bar, var_estimator)\n",
    "plt.plot(x_axis, y_axis)\n",
    "\n",
    "# plot mean mean sample\n",
    "ax.axvline(y_bar,\n",
    "           color = \"blue\",\n",
    "           linestyle = \"-.\",\n",
    "           label = \"mean sample\")\n",
    "\n",
    "ax.axvline(lower_bound,\n",
    "           color = \"red\",\n",
    "           linestyle = \"-\",\n",
    "           label = \"lower_bound\")\n",
    "\n",
    "ax.axvline(upper_bound,\n",
    "           color = \"red\",\n",
    "           linestyle = \"-\",\n",
    "           label = \"upper_bound\")\n",
    "\n",
    "# Rapihkan plot\n",
    "ax.set_xlabel(\"Rating\", fontsize=16)\n",
    "ax.set_ylabel(\"Probability\", fontsize=16)\n",
    "plt.title('PDF distribusi normal dengan rata-rata = '+str(np.round(y_bar,2))+' dan varians = '+str(np.round(var_estimator,6))+'\\n standar deviasi = ' + str(np.round(np.sqrt(var_estimator),3)))\n",
    "plt.legend()\n",
    "plt.grid(True)\n",
    "plt.show()"
   ]
  },
  {
   "cell_type": "markdown",
   "metadata": {
    "id": "_maGI7lwoN8V"
   },
   "source": [
    "---\n",
    "#New sample size for **95% Confidence Interval**"
   ]
  },
  {
   "cell_type": "code",
   "execution_count": 23,
   "metadata": {
    "id": "YaUaTyu-oN8f"
   },
   "outputs": [],
   "source": [
    "# Import function from class notebook\n",
    "def calcSampleSizeTot(N, alpha, var, d, kind):\n",
    "    \"\"\"Calculate the total sample size needed for a two-tailed or one-tailed test.\n",
    "\n",
    "    Parameters\n",
    "    ----------\n",
    "    N : int\n",
    "        The size of the population.\n",
    "    alpha : float\n",
    "        The significance level of the test (e.g., 0.05 for 5%).\n",
    "    var : float\n",
    "        The variance of the population.\n",
    "    d : float\n",
    "        The effect size of the difference between two groups (in units of standard deviation).\n",
    "    kind : str\n",
    "        The type of test to perform. Can be \"two-tail\" for a two-tailed test or \"one-tail\" for a one-tailed test.\n",
    "\n",
    "    Returns\n",
    "    -------\n",
    "    n : float\n",
    "        The total sample size needed for the test.\n",
    "\n",
    "    Notes\n",
    "    -----\n",
    "    This function uses the formula for calculating the sample size required to achieve a given level of power in a two-sample t-test, assuming equal sample sizes and variances:\n",
    "\n",
    "        n = 1 / (A + B)\n",
    "\n",
    "    where\n",
    "\n",
    "        A = (d ** 2) / (N ** 2 * z_alpha2 ** 2 * var)\n",
    "\n",
    "    for a two-tailed test or\n",
    "\n",
    "        A = (d ** 2) / (N ** 2 * z_alpha ** 2 * var)\n",
    "\n",
    "    for a one-tailed test, and\n",
    "\n",
    "        B = 1 / N\n",
    "\n",
    "    where d is the effect size, N is the population size, var is the population variance, alpha is the significance level, z_alpha is the z-statistic corresponding to the given significance level, and z_alpha2 is the z-statistic corresponding to half of the given significance level for a two-tailed test.\n",
    "\n",
    "    \"\"\"\n",
    "    # 1. Calculate the z-stat\n",
    "    if kind == \"two-tail\":\n",
    "        stat_z = stats.norm.ppf(q = 1-alpha/2)\n",
    "    else:\n",
    "        stat_z = stats.norm.ppf(q = 1-alpha)\n",
    "    \n",
    "    # 2. Calculate the first term of denominator (A)\n",
    "    A = (d**2) / ((N**2) * (stat_z**2) * var)\n",
    "\n",
    "    # 3. Calculate the second term of denominator (B)\n",
    "    B = 1/N\n",
    "\n",
    "    # 4. Calculate sample size\n",
    "    n = 1 / (A+B)\n",
    "\n",
    "    return n\n"
   ]
  },
  {
   "cell_type": "code",
   "execution_count": 24,
   "metadata": {
    "colab": {
     "base_uri": "https://localhost:8080/"
    },
    "id": "tzCW-ZzAoLxU",
    "outputId": "fdfbc8f7-4ce2-4390-d91e-7ae6aad1ad13"
   },
   "outputs": [
    {
     "name": "stdout",
     "output_type": "stream",
     "text": [
      "Sample size baru        : 10261\n"
     ]
    }
   ],
   "source": [
    "# define variables\n",
    "alpha = 0.05\n",
    "kind = \"two-tail\"\n",
    "\n",
    "n_new = calcSampleSizeTot(N = N,\n",
    "                          alpha = alpha,\n",
    "                          var = var_y,\n",
    "                          d = d,\n",
    "                          kind = kind)\n",
    "print(f\"Sample size baru        : {n_new:.0f}\")"
   ]
  },
  {
   "cell_type": "markdown",
   "metadata": {},
   "source": [
    "## Sample Distribution (Real)"
   ]
  },
  {
   "cell_type": "code",
   "execution_count": 25,
   "metadata": {},
   "outputs": [
    {
     "name": "stderr",
     "output_type": "stream",
     "text": [
      "C:\\Users\\Prayogi Adista\\AppData\\Roaming\\Python\\Python37\\site-packages\\seaborn\\distributions.py:2619: FutureWarning: `distplot` is a deprecated function and will be removed in a future version. Please adapt your code to use either `displot` (a figure-level function with similar flexibility) or `histplot` (an axes-level function for histograms).\n",
      "  warnings.warn(msg, FutureWarning)\n"
     ]
    },
    {
     "data": {
      "image/png": "[encoded data removed]",
      "text/plain": [
       "<Figure size 720x504 with 1 Axes>"
      ]
     },
     "metadata": {
      "needs_background": "light"
     },
     "output_type": "display_data"
    }
   ],
   "source": [
    "fig, ax = plt.subplots(nrows=1, ncols=1, figsize=(10, 7))\n",
    "\n",
    "sns.distplot(x=rating_df,color='seagreen',ax=ax)\n",
    "sns.despine(left=True)\n",
    "\n",
    "# buat histogram\n",
    "'''ax.hist(populasi['overall'],\n",
    "        #bins=5,\n",
    "        density = True,\n",
    "        facecolor = \"g\",\n",
    "        alpha = 0.25,\n",
    "        label = \"populasi\")'''\n",
    "\n",
    "# buat histogram\n",
    "ax.hist(rating_df,\n",
    "        bins=5,\n",
    "        density = True,\n",
    "        facecolor = \"r\",\n",
    "        alpha = 0.25,\n",
    "        label = \"sample\")\n",
    "\n",
    "# plot mean populasi\n",
    "'''ax.axvline(mean_populasi,\n",
    "           color = \"red\",\n",
    "           linestyle = \"--\",\n",
    "           label = \"mean populasi\")'''\n",
    "\n",
    "# plot mean mean sample\n",
    "ax.axvline(y_bar,\n",
    "           color = \"blue\",\n",
    "           linestyle = \"-.\",\n",
    "           label = \"mean sample\")\n",
    "\n",
    "ax.axvline(lower_bound,\n",
    "           color = \"red\",\n",
    "           linestyle = \"-\",\n",
    "           label = \"lower_bound\")\n",
    "\n",
    "ax.axvline(upper_bound,\n",
    "           color = \"red\",\n",
    "           linestyle = \"-\",\n",
    "           label = \"upper_bound\")\n",
    "\n",
    "# Rapihkan plot\n",
    "ax.set_xlabel(\"Rating\", fontsize=16)\n",
    "ax.set_ylabel(\"Probability\", fontsize=16)\n",
    "\n",
    "plt.legend()\n",
    "plt.grid(True)\n",
    "plt.show()"
   ]
  }
 ],
 "metadata": {
  "colab": {
   "provenance": []
  },
  "kernelspec": {
   "display_name": "Python 3",
   "language": "python",
   "name": "python3"
  },
  "language_info": {
   "codemirror_mode": {
    "name": "ipython",
    "version": 3
   },
   "file_extension": ".py",
   "mimetype": "text/x-python",
   "name": "python",
   "nbconvert_exporter": "python",
   "pygments_lexer": "ipython3",
   "version": "3.7.11"
  }
 },
 "nbformat": 4,
 "nbformat_minor": 1
}
